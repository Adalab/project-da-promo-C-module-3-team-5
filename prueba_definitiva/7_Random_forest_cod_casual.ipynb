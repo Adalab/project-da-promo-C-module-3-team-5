{
  "cells": [
    {
      "cell_type": "code",
      "execution_count": 1,
      "metadata": {
        "id": "BreYYWalD4-T"
      },
      "outputs": [],
      "source": [
        "# Lectura de datos\n",
        "# ------------------------------------------------------------------------------\n",
        "import pickle\n",
        "\n",
        "# Tratamiento de datos\n",
        "# ------------------------------------------------------------------------------\n",
        "import numpy as np\n",
        "import pandas as pd\n",
        "\n",
        "# Gráficos\n",
        "# ------------------------------------------------------------------------------\n",
        "import matplotlib.pyplot as plt\n",
        "import seaborn as sns\n",
        "\n",
        "# Modelado y evaluación\n",
        "# ------------------------------------------------------------------------------\n",
        "from sklearn.model_selection import train_test_split\n",
        "from sklearn.ensemble import RandomForestRegressor\n",
        "from sklearn import tree\n",
        "from sklearn.metrics import r2_score, mean_squared_error, mean_absolute_error\n",
        "from sklearn.model_selection import GridSearchCV\n",
        "\n",
        "# Barra de progreso de un proceso\n",
        "# ------------------------------------------------------------------------------\n",
        "from tqdm import tqdm\n",
        "\n",
        "# Configuración warnings\n",
        "# ------------------------------------------------------------------------------\n",
        "import warnings\n",
        "warnings.filterwarnings('once')"
      ]
    },
    {
      "cell_type": "code",
      "execution_count": 2,
      "metadata": {
        "colab": {
          "base_uri": "https://localhost:8080/"
        },
        "id": "dUdZNJBSETn2",
        "outputId": "a42c1218-ab5d-43e7-f59a-7a5acdd5baec"
      },
      "outputs": [],
      "source": [
        "# Para ejecutar en google colab\n",
        "#from google.colab import drive\n",
        "#drive.mount('/content/drive/')"
      ]
    },
    {
      "cell_type": "code",
      "execution_count": 3,
      "metadata": {
        "colab": {
          "base_uri": "https://localhost:8080/"
        },
        "id": "_0PUUAxjEUPU",
        "outputId": "427e40e4-7131-4165-96cf-aa7ca5156cce"
      },
      "outputs": [],
      "source": [
        "# Para conectar con Drive\n",
        "#%cd /content/drive/My Drive/Colab Notebooks/"
      ]
    },
    {
      "cell_type": "code",
      "execution_count": 4,
      "metadata": {
        "id": "zAiKzVlrE2L7"
      },
      "outputs": [],
      "source": [
        "#import os"
      ]
    },
    {
      "cell_type": "code",
      "execution_count": 5,
      "metadata": {
        "colab": {
          "base_uri": "https://localhost:8080/",
          "height": 270
        },
        "id": "-uFsDdnAD4-Y",
        "outputId": "1beef1e2-6060-4df1-c03a-9045acc81754"
      },
      "outputs": [
        {
          "data": {
            "text/html": [
              "<div>\n",
              "<style scoped>\n",
              "    .dataframe tbody tr th:only-of-type {\n",
              "        vertical-align: middle;\n",
              "    }\n",
              "\n",
              "    .dataframe tbody tr th {\n",
              "        vertical-align: top;\n",
              "    }\n",
              "\n",
              "    .dataframe thead th {\n",
              "        text-align: right;\n",
              "    }\n",
              "</style>\n",
              "<table border=\"1\" class=\"dataframe\">\n",
              "  <thead>\n",
              "    <tr style=\"text-align: right;\">\n",
              "      <th></th>\n",
              "      <th>dteday</th>\n",
              "      <th>yr</th>\n",
              "      <th>mnth</th>\n",
              "      <th>dia_anual</th>\n",
              "      <th>holiday_num</th>\n",
              "      <th>weekday_num</th>\n",
              "      <th>workingday_num</th>\n",
              "      <th>weathersit</th>\n",
              "      <th>temp</th>\n",
              "      <th>atemp</th>\n",
              "      <th>hum</th>\n",
              "      <th>windspeed</th>\n",
              "      <th>casual</th>\n",
              "      <th>seasons_autumn</th>\n",
              "      <th>seasons_spring</th>\n",
              "      <th>seasons_summer</th>\n",
              "      <th>seasons_winter</th>\n",
              "    </tr>\n",
              "  </thead>\n",
              "  <tbody>\n",
              "    <tr>\n",
              "      <th>0</th>\n",
              "      <td>2018-01-01</td>\n",
              "      <td>0</td>\n",
              "      <td>1</td>\n",
              "      <td>1</td>\n",
              "      <td>1</td>\n",
              "      <td>0</td>\n",
              "      <td>0</td>\n",
              "      <td>2</td>\n",
              "      <td>14.110847</td>\n",
              "      <td>18.18125</td>\n",
              "      <td>80.5833</td>\n",
              "      <td>10.749882</td>\n",
              "      <td>331</td>\n",
              "      <td>0.0</td>\n",
              "      <td>0.0</td>\n",
              "      <td>0.0</td>\n",
              "      <td>1.0</td>\n",
              "    </tr>\n",
              "    <tr>\n",
              "      <th>1</th>\n",
              "      <td>2018-01-02</td>\n",
              "      <td>0</td>\n",
              "      <td>1</td>\n",
              "      <td>2</td>\n",
              "      <td>0</td>\n",
              "      <td>1</td>\n",
              "      <td>1</td>\n",
              "      <td>2</td>\n",
              "      <td>14.902598</td>\n",
              "      <td>17.68695</td>\n",
              "      <td>69.6087</td>\n",
              "      <td>16.652113</td>\n",
              "      <td>131</td>\n",
              "      <td>0.0</td>\n",
              "      <td>0.0</td>\n",
              "      <td>0.0</td>\n",
              "      <td>1.0</td>\n",
              "    </tr>\n",
              "    <tr>\n",
              "      <th>2</th>\n",
              "      <td>2018-01-03</td>\n",
              "      <td>0</td>\n",
              "      <td>1</td>\n",
              "      <td>3</td>\n",
              "      <td>0</td>\n",
              "      <td>2</td>\n",
              "      <td>1</td>\n",
              "      <td>1</td>\n",
              "      <td>8.050924</td>\n",
              "      <td>9.47025</td>\n",
              "      <td>43.7273</td>\n",
              "      <td>16.636703</td>\n",
              "      <td>120</td>\n",
              "      <td>0.0</td>\n",
              "      <td>0.0</td>\n",
              "      <td>0.0</td>\n",
              "      <td>1.0</td>\n",
              "    </tr>\n",
              "    <tr>\n",
              "      <th>3</th>\n",
              "      <td>2018-01-04</td>\n",
              "      <td>0</td>\n",
              "      <td>1</td>\n",
              "      <td>4</td>\n",
              "      <td>0</td>\n",
              "      <td>3</td>\n",
              "      <td>1</td>\n",
              "      <td>1</td>\n",
              "      <td>8.200000</td>\n",
              "      <td>10.60610</td>\n",
              "      <td>59.0435</td>\n",
              "      <td>10.739832</td>\n",
              "      <td>108</td>\n",
              "      <td>0.0</td>\n",
              "      <td>0.0</td>\n",
              "      <td>0.0</td>\n",
              "      <td>1.0</td>\n",
              "    </tr>\n",
              "    <tr>\n",
              "      <th>4</th>\n",
              "      <td>2018-01-05</td>\n",
              "      <td>0</td>\n",
              "      <td>1</td>\n",
              "      <td>5</td>\n",
              "      <td>0</td>\n",
              "      <td>4</td>\n",
              "      <td>1</td>\n",
              "      <td>1</td>\n",
              "      <td>9.305237</td>\n",
              "      <td>11.46350</td>\n",
              "      <td>43.6957</td>\n",
              "      <td>12.522300</td>\n",
              "      <td>82</td>\n",
              "      <td>0.0</td>\n",
              "      <td>0.0</td>\n",
              "      <td>0.0</td>\n",
              "      <td>1.0</td>\n",
              "    </tr>\n",
              "  </tbody>\n",
              "</table>\n",
              "</div>"
            ],
            "text/plain": [
              "       dteday yr mnth dia_anual holiday_num weekday_num workingday_num  \\\n",
              "0  2018-01-01  0    1         1           1           0              0   \n",
              "1  2018-01-02  0    1         2           0           1              1   \n",
              "2  2018-01-03  0    1         3           0           2              1   \n",
              "3  2018-01-04  0    1         4           0           3              1   \n",
              "4  2018-01-05  0    1         5           0           4              1   \n",
              "\n",
              "  weathersit       temp     atemp      hum  windspeed  casual seasons_autumn  \\\n",
              "0          2  14.110847  18.18125  80.5833  10.749882     331            0.0   \n",
              "1          2  14.902598  17.68695  69.6087  16.652113     131            0.0   \n",
              "2          1   8.050924   9.47025  43.7273  16.636703     120            0.0   \n",
              "3          1   8.200000  10.60610  59.0435  10.739832     108            0.0   \n",
              "4          1   9.305237  11.46350  43.6957  12.522300      82            0.0   \n",
              "\n",
              "  seasons_spring seasons_summer seasons_winter  \n",
              "0            0.0            0.0            1.0  \n",
              "1            0.0            0.0            1.0  \n",
              "2            0.0            0.0            1.0  \n",
              "3            0.0            0.0            1.0  \n",
              "4            0.0            0.0            1.0  "
            ]
          },
          "execution_count": 5,
          "metadata": {},
          "output_type": "execute_result"
        }
      ],
      "source": [
        "# Lectura del fichero\n",
        "df = pd.read_pickle(\"datos/4.casual_encoding_oh_final.pkl\")\n",
        "#df = pd.read_csv(\"project-da-promo-C-module-3-team-5/datos/4.reg_encoding_oh_final.csv\", index_col=0)\n",
        "df.head()"
      ]
    },
    {
      "cell_type": "code",
      "execution_count": 6,
      "metadata": {
        "id": "OQN7srItD4-Z"
      },
      "outputs": [],
      "source": [
        "# RandomForest\n",
        "# X = Variables Predictoras\n",
        "# y = Variable Respuesta\n",
        "X = df[['holiday_num', 'weekday_num', 'workingday_num', 'weathersit', 'temp', 'atemp', 'hum', 'windspeed',\n",
        "       'seasons_autumn', 'seasons_spring', 'seasons_summer', 'seasons_winter']]\n",
        "y = df['casual']"
      ]
    },
    {
      "cell_type": "code",
      "execution_count": 7,
      "metadata": {
        "id": "X98wZH8vD4-Z"
      },
      "outputs": [],
      "source": [
        "# Generamos los conjuntos de train y test\n",
        "x_train, x_test, y_train, y_test = train_test_split(X, y, test_size = 0.2, random_state = 43)"
      ]
    },
    {
      "cell_type": "code",
      "execution_count": 8,
      "metadata": {
        "id": "H7e1EUiAKhfw"
      },
      "outputs": [],
      "source": [
        "# Definimos un diccionario con los hiperparámetros que deberemos ocupar en el random forest\n",
        "param = {\"max_depth\": [4,6,8],\n",
        "        \"max_features\": [4,5,6,7],\n",
        "        \"min_samples_split\": [5, 20, 75], \n",
        "        \"min_samples_leaf\": [5,20,75]} "
      ]
    },
    {
      "cell_type": "code",
      "execution_count": 9,
      "metadata": {
        "id": "4-EfKj6SD4-b"
      },
      "outputs": [],
      "source": [
        "# Aplicamos el GridSearch con estimador de RandomForestRegressor\n",
        "gs_rf = GridSearchCV(\n",
        "            estimator=RandomForestRegressor(), # tipo de modelo que queremos hacer\n",
        "            param_grid= param, # que hiperparámetros queremos que testee\n",
        "            cv=10, # crossvalidation que aprendimos en la lección de regresión lineal intro. \n",
        "            verbose=-1) # para que no nos printee ningún mensaje en pantalla"
      ]
    },
    {
      "cell_type": "code",
      "execution_count": 10,
      "metadata": {
        "colab": {
          "base_uri": "https://localhost:8080/"
        },
        "id": "1LeycMpOD4-b",
        "outputId": "0c50d00a-f18c-4ce7-d716-2a6be5840a86"
      },
      "outputs": [
        {
          "data": {
            "text/plain": [
              "GridSearchCV(cv=10, estimator=RandomForestRegressor(),\n",
              "             param_grid={'max_depth': [4, 6, 8], 'max_features': [4, 5, 6, 7],\n",
              "                         'min_samples_leaf': [5, 20, 75],\n",
              "                         'min_samples_split': [5, 20, 75]},\n",
              "             verbose=-1)"
            ]
          },
          "execution_count": 10,
          "metadata": {},
          "output_type": "execute_result"
        }
      ],
      "source": [
        "# Entrenamos el modelo con .fit()\n",
        "gs_rf.fit(x_train, y_train)"
      ]
    },
    {
      "cell_type": "code",
      "execution_count": 11,
      "metadata": {},
      "outputs": [],
      "source": [
        "with open(\"datos/7.casual_encoding_oh_final_gs_rf.pkl\", \"wb\") as f:\n",
        "    pickle.dump(gs_rf, f)"
      ]
    },
    {
      "cell_type": "code",
      "execution_count": 12,
      "metadata": {
        "colab": {
          "base_uri": "https://localhost:8080/"
        },
        "id": "lb67TvaDD4-c",
        "outputId": "ca1a9f12-563b-4555-98c3-e5dcea3c07df"
      },
      "outputs": [
        {
          "data": {
            "text/plain": [
              "RandomForestRegressor(max_depth=8, max_features=6, min_samples_leaf=5,\n",
              "                      min_samples_split=5)"
            ]
          },
          "execution_count": 12,
          "metadata": {},
          "output_type": "execute_result"
        }
      ],
      "source": [
        "# método para que elija el mejor estimador o combinación de valores\n",
        "bosque = gs_rf.best_estimator_\n",
        "bosque"
      ]
    },
    {
      "cell_type": "code",
      "execution_count": 13,
      "metadata": {
        "id": "RtSAwJ2mD4-d"
      },
      "outputs": [],
      "source": [
        "# Aplicamos el método .predict() para calcular las métricas del mejor modelo.\n",
        "y_pred_test_rf = bosque.predict(x_test)\n",
        "y_pred_train_rf = bosque.predict(x_train)"
      ]
    },
    {
      "cell_type": "code",
      "execution_count": 14,
      "metadata": {},
      "outputs": [
        {
          "data": {
            "text/plain": [
              "'# Plotear un árbol del RandomForest\\nplt.figure(figsize=(20,10))\\ntree.plot_tree(bosque.estimators_[50],feature_names=x_train.columns,filled=True)\\nplt.show()'"
            ]
          },
          "execution_count": 14,
          "metadata": {},
          "output_type": "execute_result"
        }
      ],
      "source": [
        "\"\"\"# Plotear un árbol del RandomForest\n",
        "plt.figure(figsize=(20,10))\n",
        "tree.plot_tree(bosque.estimators_[50],feature_names=x_train.columns,filled=True)\n",
        "plt.show()\"\"\""
      ]
    },
    {
      "cell_type": "code",
      "execution_count": 15,
      "metadata": {
        "id": "oSxshN1ID4-d"
      },
      "outputs": [],
      "source": [
        "# Medimos las métricas del random forest\n",
        "def metricas(y_test, y_train, y_test_pred, y_train_pred, tipo_modelo):    \n",
        "    resultados = {'MAE': [mean_absolute_error(y_test, y_test_pred), mean_absolute_error(y_train, y_train_pred)],\n",
        "                'MSE': [mean_squared_error(y_test, y_test_pred), mean_squared_error(y_train, y_train_pred)],\n",
        "                'RMSE': [np.sqrt(mean_squared_error(y_test, y_test_pred)), np.sqrt(mean_squared_error(y_train, y_train_pred))],\n",
        "                'R2':  [r2_score(y_test, y_test_pred), r2_score(y_train, y_train_pred)],\n",
        "                 \"set\": [\"test\", \"train\"]}\n",
        "    df = pd.DataFrame(resultados)\n",
        "    df[\"modelo\"] = tipo_modelo\n",
        "    return df"
      ]
    },
    {
      "cell_type": "code",
      "execution_count": 16,
      "metadata": {
        "colab": {
          "base_uri": "https://localhost:8080/",
          "height": 112
        },
        "id": "ighiYwb9D4-e",
        "outputId": "60870490-b4a3-4fc7-f90c-7f86b6461fe3"
      },
      "outputs": [
        {
          "data": {
            "text/html": [
              "<div>\n",
              "<style scoped>\n",
              "    .dataframe tbody tr th:only-of-type {\n",
              "        vertical-align: middle;\n",
              "    }\n",
              "\n",
              "    .dataframe tbody tr th {\n",
              "        vertical-align: top;\n",
              "    }\n",
              "\n",
              "    .dataframe thead th {\n",
              "        text-align: right;\n",
              "    }\n",
              "</style>\n",
              "<table border=\"1\" class=\"dataframe\">\n",
              "  <thead>\n",
              "    <tr style=\"text-align: right;\">\n",
              "      <th></th>\n",
              "      <th>MAE</th>\n",
              "      <th>MSE</th>\n",
              "      <th>RMSE</th>\n",
              "      <th>R2</th>\n",
              "      <th>set</th>\n",
              "      <th>modelo</th>\n",
              "    </tr>\n",
              "  </thead>\n",
              "  <tbody>\n",
              "    <tr>\n",
              "      <th>0</th>\n",
              "      <td>282.178218</td>\n",
              "      <td>148295.038996</td>\n",
              "      <td>385.090949</td>\n",
              "      <td>0.708932</td>\n",
              "      <td>test</td>\n",
              "      <td>Casual Cod Random Forest</td>\n",
              "    </tr>\n",
              "    <tr>\n",
              "      <th>1</th>\n",
              "      <td>235.014249</td>\n",
              "      <td>121792.895155</td>\n",
              "      <td>348.988388</td>\n",
              "      <td>0.735740</td>\n",
              "      <td>train</td>\n",
              "      <td>Casual Cod Random Forest</td>\n",
              "    </tr>\n",
              "  </tbody>\n",
              "</table>\n",
              "</div>"
            ],
            "text/plain": [
              "          MAE            MSE        RMSE        R2    set  \\\n",
              "0  282.178218  148295.038996  385.090949  0.708932   test   \n",
              "1  235.014249  121792.895155  348.988388  0.735740  train   \n",
              "\n",
              "                     modelo  \n",
              "0  Casual Cod Random Forest  \n",
              "1  Casual Cod Random Forest  "
            ]
          },
          "execution_count": 16,
          "metadata": {},
          "output_type": "execute_result"
        }
      ],
      "source": [
        "# sacamos las métricas para ver si hay overfitting o unerfitting, para modificar la profundidad en función de estos resultados\n",
        "rf_results = metricas(y_test, y_train, y_pred_test_rf, y_pred_train_rf, \"Casual Cod Random Forest\")\n",
        "rf_results"
      ]
    },
    {
      "cell_type": "code",
      "execution_count": 17,
      "metadata": {
        "colab": {
          "base_uri": "https://localhost:8080/",
          "height": 175
        },
        "id": "NhO8bLdyD4-e",
        "outputId": "3e185762-6d06-4455-b0b7-dc8dfca2ec65"
      },
      "outputs": [
        {
          "data": {
            "text/html": [
              "<div>\n",
              "<style scoped>\n",
              "    .dataframe tbody tr th:only-of-type {\n",
              "        vertical-align: middle;\n",
              "    }\n",
              "\n",
              "    .dataframe tbody tr th {\n",
              "        vertical-align: top;\n",
              "    }\n",
              "\n",
              "    .dataframe thead th {\n",
              "        text-align: right;\n",
              "    }\n",
              "</style>\n",
              "<table border=\"1\" class=\"dataframe\">\n",
              "  <thead>\n",
              "    <tr style=\"text-align: right;\">\n",
              "      <th></th>\n",
              "      <th>MAE</th>\n",
              "      <th>MSE</th>\n",
              "      <th>RMSE</th>\n",
              "      <th>R2</th>\n",
              "      <th>set</th>\n",
              "      <th>modelo</th>\n",
              "    </tr>\n",
              "  </thead>\n",
              "  <tbody>\n",
              "    <tr>\n",
              "      <th>2</th>\n",
              "      <td>322.123304</td>\n",
              "      <td>196367.906147</td>\n",
              "      <td>443.134185</td>\n",
              "      <td>0.591261</td>\n",
              "      <td>test</td>\n",
              "      <td>Casual_est_Decision tree II Est-Cod</td>\n",
              "    </tr>\n",
              "    <tr>\n",
              "      <th>3</th>\n",
              "      <td>295.510535</td>\n",
              "      <td>180467.417156</td>\n",
              "      <td>424.814568</td>\n",
              "      <td>0.614144</td>\n",
              "      <td>train</td>\n",
              "      <td>Casual_est_Decision tree II Est-Cod</td>\n",
              "    </tr>\n",
              "    <tr>\n",
              "      <th>6</th>\n",
              "      <td>329.171448</td>\n",
              "      <td>224042.723748</td>\n",
              "      <td>473.331516</td>\n",
              "      <td>0.533656</td>\n",
              "      <td>test</td>\n",
              "      <td>Casual_Cod_Decision tree II</td>\n",
              "    </tr>\n",
              "    <tr>\n",
              "      <th>7</th>\n",
              "      <td>309.201099</td>\n",
              "      <td>193764.367713</td>\n",
              "      <td>440.186742</td>\n",
              "      <td>0.585713</td>\n",
              "      <td>train</td>\n",
              "      <td>Casual_Cod_Decision tree II</td>\n",
              "    </tr>\n",
              "  </tbody>\n",
              "</table>\n",
              "</div>"
            ],
            "text/plain": [
              "          MAE            MSE        RMSE        R2    set  \\\n",
              "2  322.123304  196367.906147  443.134185  0.591261   test   \n",
              "3  295.510535  180467.417156  424.814568  0.614144  train   \n",
              "6  329.171448  224042.723748  473.331516  0.533656   test   \n",
              "7  309.201099  193764.367713  440.186742  0.585713  train   \n",
              "\n",
              "                                modelo  \n",
              "2  Casual_est_Decision tree II Est-Cod  \n",
              "3  Casual_est_Decision tree II Est-Cod  \n",
              "6          Casual_Cod_Decision tree II  \n",
              "7          Casual_Cod_Decision tree II  "
            ]
          },
          "execution_count": 17,
          "metadata": {},
          "output_type": "execute_result"
        }
      ],
      "source": [
        "# Cargamos el archivo con las mejores métricas del Decision Tree\n",
        "df_DT_results = pd.read_csv(\"datos/6.casual_resultados_2_cod_est-ok.csv\", index_col = 0)\n",
        "df_DT_results"
      ]
    },
    {
      "cell_type": "code",
      "execution_count": 18,
      "metadata": {
        "colab": {
          "base_uri": "https://localhost:8080/",
          "height": 238
        },
        "id": "wchaT_iRF-ax",
        "outputId": "ef722de7-7120-400d-cead-0ded28251ac0"
      },
      "outputs": [
        {
          "data": {
            "text/html": [
              "<div>\n",
              "<style scoped>\n",
              "    .dataframe tbody tr th:only-of-type {\n",
              "        vertical-align: middle;\n",
              "    }\n",
              "\n",
              "    .dataframe tbody tr th {\n",
              "        vertical-align: top;\n",
              "    }\n",
              "\n",
              "    .dataframe thead th {\n",
              "        text-align: right;\n",
              "    }\n",
              "</style>\n",
              "<table border=\"1\" class=\"dataframe\">\n",
              "  <thead>\n",
              "    <tr style=\"text-align: right;\">\n",
              "      <th></th>\n",
              "      <th>MAE</th>\n",
              "      <th>MSE</th>\n",
              "      <th>RMSE</th>\n",
              "      <th>R2</th>\n",
              "      <th>set</th>\n",
              "      <th>modelo</th>\n",
              "    </tr>\n",
              "  </thead>\n",
              "  <tbody>\n",
              "    <tr>\n",
              "      <th>2</th>\n",
              "      <td>322.123304</td>\n",
              "      <td>196367.906147</td>\n",
              "      <td>443.134185</td>\n",
              "      <td>0.591261</td>\n",
              "      <td>test</td>\n",
              "      <td>Casual_est_Decision tree II Est-Cod</td>\n",
              "    </tr>\n",
              "    <tr>\n",
              "      <th>3</th>\n",
              "      <td>295.510535</td>\n",
              "      <td>180467.417156</td>\n",
              "      <td>424.814568</td>\n",
              "      <td>0.614144</td>\n",
              "      <td>train</td>\n",
              "      <td>Casual_est_Decision tree II Est-Cod</td>\n",
              "    </tr>\n",
              "    <tr>\n",
              "      <th>6</th>\n",
              "      <td>329.171448</td>\n",
              "      <td>224042.723748</td>\n",
              "      <td>473.331516</td>\n",
              "      <td>0.533656</td>\n",
              "      <td>test</td>\n",
              "      <td>Casual_Cod_Decision tree II</td>\n",
              "    </tr>\n",
              "    <tr>\n",
              "      <th>7</th>\n",
              "      <td>309.201099</td>\n",
              "      <td>193764.367713</td>\n",
              "      <td>440.186742</td>\n",
              "      <td>0.585713</td>\n",
              "      <td>train</td>\n",
              "      <td>Casual_Cod_Decision tree II</td>\n",
              "    </tr>\n",
              "    <tr>\n",
              "      <th>0</th>\n",
              "      <td>282.178218</td>\n",
              "      <td>148295.038996</td>\n",
              "      <td>385.090949</td>\n",
              "      <td>0.708932</td>\n",
              "      <td>test</td>\n",
              "      <td>Casual Cod Random Forest</td>\n",
              "    </tr>\n",
              "    <tr>\n",
              "      <th>1</th>\n",
              "      <td>235.014249</td>\n",
              "      <td>121792.895155</td>\n",
              "      <td>348.988388</td>\n",
              "      <td>0.735740</td>\n",
              "      <td>train</td>\n",
              "      <td>Casual Cod Random Forest</td>\n",
              "    </tr>\n",
              "  </tbody>\n",
              "</table>\n",
              "</div>"
            ],
            "text/plain": [
              "          MAE            MSE        RMSE        R2    set  \\\n",
              "2  322.123304  196367.906147  443.134185  0.591261   test   \n",
              "3  295.510535  180467.417156  424.814568  0.614144  train   \n",
              "6  329.171448  224042.723748  473.331516  0.533656   test   \n",
              "7  309.201099  193764.367713  440.186742  0.585713  train   \n",
              "0  282.178218  148295.038996  385.090949  0.708932   test   \n",
              "1  235.014249  121792.895155  348.988388  0.735740  train   \n",
              "\n",
              "                                modelo  \n",
              "2  Casual_est_Decision tree II Est-Cod  \n",
              "3  Casual_est_Decision tree II Est-Cod  \n",
              "6          Casual_Cod_Decision tree II  \n",
              "7          Casual_Cod_Decision tree II  \n",
              "0             Casual Cod Random Forest  \n",
              "1             Casual Cod Random Forest  "
            ]
          },
          "execution_count": 18,
          "metadata": {},
          "output_type": "execute_result"
        }
      ],
      "source": [
        "#Unimos los resultados del Random Forest y el Decision Tree:\n",
        "df_RF_DT_results = pd.concat([df_DT_results, rf_results], axis=0)\n",
        "df_RF_DT_results"
      ]
    },
    {
      "cell_type": "code",
      "execution_count": 19,
      "metadata": {},
      "outputs": [
        {
          "data": {
            "text/html": [
              "<style type=\"text/css\">\n",
              "#T_5b2c6_row0_col0 {\n",
              "  background-color: #034c78;\n",
              "  color: #f1f1f1;\n",
              "}\n",
              "#T_5b2c6_row0_col1 {\n",
              "  background-color: #0d75b3;\n",
              "  color: #f1f1f1;\n",
              "}\n",
              "#T_5b2c6_row0_col2 {\n",
              "  background-color: #056fae;\n",
              "  color: #f1f1f1;\n",
              "}\n",
              "#T_5b2c6_row0_col3 {\n",
              "  background-color: #c5cce3;\n",
              "  color: #000000;\n",
              "}\n",
              "#T_5b2c6_row1_col0 {\n",
              "  background-color: #2f8bbe;\n",
              "  color: #f1f1f1;\n",
              "}\n",
              "#T_5b2c6_row1_col1 {\n",
              "  background-color: #509ac6;\n",
              "  color: #f1f1f1;\n",
              "}\n",
              "#T_5b2c6_row1_col2 {\n",
              "  background-color: #3d93c2;\n",
              "  color: #f1f1f1;\n",
              "}\n",
              "#T_5b2c6_row1_col3 {\n",
              "  background-color: #9ebad9;\n",
              "  color: #000000;\n",
              "}\n",
              "#T_5b2c6_row2_col0, #T_5b2c6_row2_col1, #T_5b2c6_row2_col2, #T_5b2c6_row5_col3 {\n",
              "  background-color: #023858;\n",
              "  color: #f1f1f1;\n",
              "}\n",
              "#T_5b2c6_row2_col3, #T_5b2c6_row5_col0, #T_5b2c6_row5_col1, #T_5b2c6_row5_col2 {\n",
              "  background-color: #fff7fb;\n",
              "  color: #000000;\n",
              "}\n",
              "#T_5b2c6_row3_col0 {\n",
              "  background-color: #0569a5;\n",
              "  color: #f1f1f1;\n",
              "}\n",
              "#T_5b2c6_row3_col1 {\n",
              "  background-color: #167bb6;\n",
              "  color: #f1f1f1;\n",
              "}\n",
              "#T_5b2c6_row3_col2 {\n",
              "  background-color: #0c74b2;\n",
              "  color: #f1f1f1;\n",
              "}\n",
              "#T_5b2c6_row3_col3 {\n",
              "  background-color: #ced0e6;\n",
              "  color: #000000;\n",
              "}\n",
              "#T_5b2c6_row4_col0 {\n",
              "  background-color: #73a9cf;\n",
              "  color: #f1f1f1;\n",
              "}\n",
              "#T_5b2c6_row4_col1 {\n",
              "  background-color: #cdd0e5;\n",
              "  color: #000000;\n",
              "}\n",
              "#T_5b2c6_row4_col2 {\n",
              "  background-color: #c2cbe2;\n",
              "  color: #000000;\n",
              "}\n",
              "#T_5b2c6_row4_col3 {\n",
              "  background-color: #045b8e;\n",
              "  color: #f1f1f1;\n",
              "}\n",
              "</style>\n",
              "<table id=\"T_5b2c6\">\n",
              "  <thead>\n",
              "    <tr>\n",
              "      <th class=\"blank level0\" >&nbsp;</th>\n",
              "      <th id=\"T_5b2c6_level0_col0\" class=\"col_heading level0 col0\" >MAE</th>\n",
              "      <th id=\"T_5b2c6_level0_col1\" class=\"col_heading level0 col1\" >MSE</th>\n",
              "      <th id=\"T_5b2c6_level0_col2\" class=\"col_heading level0 col2\" >RMSE</th>\n",
              "      <th id=\"T_5b2c6_level0_col3\" class=\"col_heading level0 col3\" >R2</th>\n",
              "      <th id=\"T_5b2c6_level0_col4\" class=\"col_heading level0 col4\" >set</th>\n",
              "      <th id=\"T_5b2c6_level0_col5\" class=\"col_heading level0 col5\" >modelo</th>\n",
              "    </tr>\n",
              "  </thead>\n",
              "  <tbody>\n",
              "    <tr>\n",
              "      <th id=\"T_5b2c6_level0_row0\" class=\"row_heading level0 row0\" >2</th>\n",
              "      <td id=\"T_5b2c6_row0_col0\" class=\"data row0 col0\" >322.123304</td>\n",
              "      <td id=\"T_5b2c6_row0_col1\" class=\"data row0 col1\" >196367.906147</td>\n",
              "      <td id=\"T_5b2c6_row0_col2\" class=\"data row0 col2\" >443.134185</td>\n",
              "      <td id=\"T_5b2c6_row0_col3\" class=\"data row0 col3\" >0.591261</td>\n",
              "      <td id=\"T_5b2c6_row0_col4\" class=\"data row0 col4\" >test</td>\n",
              "      <td id=\"T_5b2c6_row0_col5\" class=\"data row0 col5\" >Casual_est_Decision tree II Est-Cod</td>\n",
              "    </tr>\n",
              "    <tr>\n",
              "      <th id=\"T_5b2c6_level0_row1\" class=\"row_heading level0 row1\" >3</th>\n",
              "      <td id=\"T_5b2c6_row1_col0\" class=\"data row1 col0\" >295.510535</td>\n",
              "      <td id=\"T_5b2c6_row1_col1\" class=\"data row1 col1\" >180467.417156</td>\n",
              "      <td id=\"T_5b2c6_row1_col2\" class=\"data row1 col2\" >424.814568</td>\n",
              "      <td id=\"T_5b2c6_row1_col3\" class=\"data row1 col3\" >0.614144</td>\n",
              "      <td id=\"T_5b2c6_row1_col4\" class=\"data row1 col4\" >train</td>\n",
              "      <td id=\"T_5b2c6_row1_col5\" class=\"data row1 col5\" >Casual_est_Decision tree II Est-Cod</td>\n",
              "    </tr>\n",
              "    <tr>\n",
              "      <th id=\"T_5b2c6_level0_row2\" class=\"row_heading level0 row2\" >6</th>\n",
              "      <td id=\"T_5b2c6_row2_col0\" class=\"data row2 col0\" >329.171448</td>\n",
              "      <td id=\"T_5b2c6_row2_col1\" class=\"data row2 col1\" >224042.723748</td>\n",
              "      <td id=\"T_5b2c6_row2_col2\" class=\"data row2 col2\" >473.331516</td>\n",
              "      <td id=\"T_5b2c6_row2_col3\" class=\"data row2 col3\" >0.533656</td>\n",
              "      <td id=\"T_5b2c6_row2_col4\" class=\"data row2 col4\" >test</td>\n",
              "      <td id=\"T_5b2c6_row2_col5\" class=\"data row2 col5\" >Casual_Cod_Decision tree II</td>\n",
              "    </tr>\n",
              "    <tr>\n",
              "      <th id=\"T_5b2c6_level0_row3\" class=\"row_heading level0 row3\" >7</th>\n",
              "      <td id=\"T_5b2c6_row3_col0\" class=\"data row3 col0\" >309.201099</td>\n",
              "      <td id=\"T_5b2c6_row3_col1\" class=\"data row3 col1\" >193764.367713</td>\n",
              "      <td id=\"T_5b2c6_row3_col2\" class=\"data row3 col2\" >440.186742</td>\n",
              "      <td id=\"T_5b2c6_row3_col3\" class=\"data row3 col3\" >0.585713</td>\n",
              "      <td id=\"T_5b2c6_row3_col4\" class=\"data row3 col4\" >train</td>\n",
              "      <td id=\"T_5b2c6_row3_col5\" class=\"data row3 col5\" >Casual_Cod_Decision tree II</td>\n",
              "    </tr>\n",
              "    <tr>\n",
              "      <th id=\"T_5b2c6_level0_row4\" class=\"row_heading level0 row4\" >0</th>\n",
              "      <td id=\"T_5b2c6_row4_col0\" class=\"data row4 col0\" >282.178218</td>\n",
              "      <td id=\"T_5b2c6_row4_col1\" class=\"data row4 col1\" >148295.038996</td>\n",
              "      <td id=\"T_5b2c6_row4_col2\" class=\"data row4 col2\" >385.090949</td>\n",
              "      <td id=\"T_5b2c6_row4_col3\" class=\"data row4 col3\" >0.708932</td>\n",
              "      <td id=\"T_5b2c6_row4_col4\" class=\"data row4 col4\" >test</td>\n",
              "      <td id=\"T_5b2c6_row4_col5\" class=\"data row4 col5\" >Casual Cod Random Forest</td>\n",
              "    </tr>\n",
              "    <tr>\n",
              "      <th id=\"T_5b2c6_level0_row5\" class=\"row_heading level0 row5\" >1</th>\n",
              "      <td id=\"T_5b2c6_row5_col0\" class=\"data row5 col0\" >235.014249</td>\n",
              "      <td id=\"T_5b2c6_row5_col1\" class=\"data row5 col1\" >121792.895155</td>\n",
              "      <td id=\"T_5b2c6_row5_col2\" class=\"data row5 col2\" >348.988388</td>\n",
              "      <td id=\"T_5b2c6_row5_col3\" class=\"data row5 col3\" >0.735740</td>\n",
              "      <td id=\"T_5b2c6_row5_col4\" class=\"data row5 col4\" >train</td>\n",
              "      <td id=\"T_5b2c6_row5_col5\" class=\"data row5 col5\" >Casual Cod Random Forest</td>\n",
              "    </tr>\n",
              "  </tbody>\n",
              "</table>\n"
            ],
            "text/plain": [
              "<pandas.io.formats.style.Styler at 0x7fa35dedae20>"
            ]
          },
          "execution_count": 19,
          "metadata": {},
          "output_type": "execute_result"
        }
      ],
      "source": [
        "df_RF_DT_results.style.background_gradient()"
      ]
    },
    {
      "cell_type": "code",
      "execution_count": 20,
      "metadata": {},
      "outputs": [
        {
          "data": {
            "text/html": [
              "<div>\n",
              "<style scoped>\n",
              "    .dataframe tbody tr th:only-of-type {\n",
              "        vertical-align: middle;\n",
              "    }\n",
              "\n",
              "    .dataframe tbody tr th {\n",
              "        vertical-align: top;\n",
              "    }\n",
              "\n",
              "    .dataframe thead th {\n",
              "        text-align: right;\n",
              "    }\n",
              "</style>\n",
              "<table border=\"1\" class=\"dataframe\">\n",
              "  <thead>\n",
              "    <tr style=\"text-align: right;\">\n",
              "      <th></th>\n",
              "      <th>predictor</th>\n",
              "      <th>importancia</th>\n",
              "    </tr>\n",
              "  </thead>\n",
              "  <tbody>\n",
              "    <tr>\n",
              "      <th>5</th>\n",
              "      <td>atemp</td>\n",
              "      <td>0.277295</td>\n",
              "    </tr>\n",
              "    <tr>\n",
              "      <th>1</th>\n",
              "      <td>weekday_num</td>\n",
              "      <td>0.245656</td>\n",
              "    </tr>\n",
              "    <tr>\n",
              "      <th>4</th>\n",
              "      <td>temp</td>\n",
              "      <td>0.200720</td>\n",
              "    </tr>\n",
              "    <tr>\n",
              "      <th>6</th>\n",
              "      <td>hum</td>\n",
              "      <td>0.083853</td>\n",
              "    </tr>\n",
              "    <tr>\n",
              "      <th>11</th>\n",
              "      <td>seasons_winter</td>\n",
              "      <td>0.057919</td>\n",
              "    </tr>\n",
              "    <tr>\n",
              "      <th>7</th>\n",
              "      <td>windspeed</td>\n",
              "      <td>0.051887</td>\n",
              "    </tr>\n",
              "    <tr>\n",
              "      <th>3</th>\n",
              "      <td>weathersit</td>\n",
              "      <td>0.026018</td>\n",
              "    </tr>\n",
              "    <tr>\n",
              "      <th>2</th>\n",
              "      <td>workingday_num</td>\n",
              "      <td>0.019906</td>\n",
              "    </tr>\n",
              "    <tr>\n",
              "      <th>10</th>\n",
              "      <td>seasons_summer</td>\n",
              "      <td>0.011703</td>\n",
              "    </tr>\n",
              "    <tr>\n",
              "      <th>0</th>\n",
              "      <td>holiday_num</td>\n",
              "      <td>0.010495</td>\n",
              "    </tr>\n",
              "    <tr>\n",
              "      <th>9</th>\n",
              "      <td>seasons_spring</td>\n",
              "      <td>0.008966</td>\n",
              "    </tr>\n",
              "    <tr>\n",
              "      <th>8</th>\n",
              "      <td>seasons_autumn</td>\n",
              "      <td>0.005582</td>\n",
              "    </tr>\n",
              "  </tbody>\n",
              "</table>\n",
              "</div>"
            ],
            "text/plain": [
              "         predictor  importancia\n",
              "5            atemp     0.277295\n",
              "1      weekday_num     0.245656\n",
              "4             temp     0.200720\n",
              "6              hum     0.083853\n",
              "11  seasons_winter     0.057919\n",
              "7        windspeed     0.051887\n",
              "3       weathersit     0.026018\n",
              "2   workingday_num     0.019906\n",
              "10  seasons_summer     0.011703\n",
              "0      holiday_num     0.010495\n",
              "9   seasons_spring     0.008966\n",
              "8   seasons_autumn     0.005582"
            ]
          },
          "execution_count": 20,
          "metadata": {},
          "output_type": "execute_result"
        }
      ],
      "source": [
        "# vamos a crearnos un dataframe \n",
        "importancia_predictores = pd.DataFrame({'predictor': x_train.columns,\n",
        "    'importancia': bosque.feature_importances_})\n",
        "\n",
        "# ordenamos de mayor a menor los resultados\n",
        "importancia_predictores.sort_values(by=[\"importancia\"], ascending=False, inplace = True)\n",
        "importancia_predictores"
      ]
    },
    {
      "cell_type": "code",
      "execution_count": 21,
      "metadata": {},
      "outputs": [
        {
          "data": {
            "image/png": "[encoded data removed]",
            "text/plain": [
              "<Figure size 640x480 with 1 Axes>"
            ]
          },
          "metadata": {},
          "output_type": "display_data"
        }
      ],
      "source": [
        "fig = plt.figure()\n",
        "plt.scatter(y_test, y_pred_test_rf , alpha=.5)\n",
        "fig.suptitle('y_test vs y_pred', fontsize = 20)              # Plot heading\n",
        "plt.xlabel('y_test', fontsize = 18)                          # X-label\n",
        "plt.ylabel('y_pred', fontsize = 16)\n",
        "plt.show()"
      ]
    },
    {
      "cell_type": "code",
      "execution_count": 22,
      "metadata": {},
      "outputs": [
        {
          "data": {
            "text/plain": [
              "<AxesSubplot:xlabel='casual', ylabel='Count'>"
            ]
          },
          "execution_count": 22,
          "metadata": {},
          "output_type": "execute_result"
        },
        {
          "data": {
            "image/png": "[encoded data removed]",
            "text/plain": [
              "<Figure size 640x480 with 1 Axes>"
            ]
          },
          "metadata": {},
          "output_type": "display_data"
        }
      ],
      "source": [
        "# ploteamos los residuos\n",
        "sns.histplot(x= y_test,\n",
        "             color =\"grey\",\n",
        "             kde=True)"
      ]
    },
    {
      "cell_type": "code",
      "execution_count": 23,
      "metadata": {},
      "outputs": [
        {
          "data": {
            "text/plain": [
              "<AxesSubplot:ylabel='Count'>"
            ]
          },
          "execution_count": 23,
          "metadata": {},
          "output_type": "execute_result"
        },
        {
          "data": {
            "image/png": "[encoded data removed]",
            "text/plain": [
              "<Figure size 640x480 with 1 Axes>"
            ]
          },
          "metadata": {},
          "output_type": "display_data"
        }
      ],
      "source": [
        "# ploteamos los residuos\n",
        "sns.histplot(x= y_pred_test_rf,\n",
        "             color =\"grey\",\n",
        "             kde=True)"
      ]
    },
    {
      "cell_type": "code",
      "execution_count": 24,
      "metadata": {},
      "outputs": [],
      "source": [
        "df_RF_DT_results.to_csv(\"datos/7.casual_resultados_cod_rf_mas_dt.csv\")"
      ]
    }
  ],
  "metadata": {
    "colab": {
      "provenance": []
    },
    "kernelspec": {
      "display_name": "base",
      "language": "python",
      "name": "python3"
    },
    "language_info": {
      "codemirror_mode": {
        "name": "ipython",
        "version": 3
      },
      "file_extension": ".py",
      "mimetype": "text/x-python",
      "name": "python",
      "nbconvert_exporter": "python",
      "pygments_lexer": "ipython3",
      "version": "3.9.13"
    },
    "orig_nbformat": 4,
    "vscode": {
      "interpreter": {
        "hash": "f2104d434ce3092b7c07d5af98c90652611c7ad655b2a72b59e9e675e449bc7b"
      }
    }
  },
  "nbformat": 4,
  "nbformat_minor": 0
}
