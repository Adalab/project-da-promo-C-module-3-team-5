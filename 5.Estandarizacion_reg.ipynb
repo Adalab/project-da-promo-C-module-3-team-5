{
 "cells": [
  {
   "attachments": {},
   "cell_type": "markdown",
   "metadata": {},
   "source": [
    "# ``Estandarización``"
   ]
  },
  {
   "cell_type": "code",
   "execution_count": 2,
   "metadata": {},
   "outputs": [],
   "source": [
    "# Lectura de datos\n",
    "# ==============================================================================\n",
    "import pickle\n",
    "\n",
    "# Tratamiento de datos\n",
    "# ==============================================================================\n",
    "import numpy as np\n",
    "import pandas as pd\n",
    "import sidetable\n",
    "from sklearn.preprocessing import OneHotEncoder\n",
    "\n",
    "# Estadísticos\n",
    "# ==============================================================================\n",
    "from scipy import stats\n",
    "import researchpy as rp\n",
    "from scipy.stats import levene\n",
    "from sklearn.preprocessing import RobustScaler\n",
    "from sklearn.preprocessing import StandardScaler\n",
    "\n",
    "\n",
    "# Librerías para manejar fechas\n",
    "# ==============================================================================\n",
    "from datetime import datetime\n",
    "import calendar\n",
    "\n",
    "# Desplegar todas las columnas\n",
    "# ==============================================================================\n",
    "pd.options.display.max_columns = None\n",
    "\n",
    "# Gráficos\n",
    "# ==============================================================================\n",
    "import matplotlib.pyplot as plt\n",
    "import seaborn as sns\n",
    "\n",
    "# Test de Shapiro\n",
    "# ==============================================================================\n",
    "from scipy import stats\n",
    "\n",
    "# Asimetría\n",
    "# ==============================================================================\n",
    "from scipy.stats import skew\n",
    "\n",
    "# Curtosis\n",
    "# ==============================================================================\n",
    "from scipy.stats import kurtosistest\n",
    "\n",
    "# Test de Levene\n",
    "# ==============================================================================\n",
    "from scipy.stats import levene\n",
    "\n",
    "# Configuración warnings\n",
    "# ==============================================================================\n",
    "#import warnings\n",
    "#warnings.filterwarnings('ignore')\n",
    "\n",
    "# Tamaño gráficas\n",
    "# ==============================================================================\n",
    "plt.rcParams[\"figure.figsize\"] = (10,8)"
   ]
  },
  {
   "cell_type": "code",
   "execution_count": 3,
   "metadata": {},
   "outputs": [
    {
     "data": {
      "text/html": [
       "<div>\n",
       "<style scoped>\n",
       "    .dataframe tbody tr th:only-of-type {\n",
       "        vertical-align: middle;\n",
       "    }\n",
       "\n",
       "    .dataframe tbody tr th {\n",
       "        vertical-align: top;\n",
       "    }\n",
       "\n",
       "    .dataframe thead th {\n",
       "        text-align: right;\n",
       "    }\n",
       "</style>\n",
       "<table border=\"1\" class=\"dataframe\">\n",
       "  <thead>\n",
       "    <tr style=\"text-align: right;\">\n",
       "      <th></th>\n",
       "      <th>yr</th>\n",
       "      <th>mnth</th>\n",
       "      <th>dia_anual</th>\n",
       "      <th>holiday_num</th>\n",
       "      <th>weekday_num</th>\n",
       "      <th>workingday_num</th>\n",
       "      <th>weathersit</th>\n",
       "      <th>atemp</th>\n",
       "      <th>registered</th>\n",
       "      <th>cnt</th>\n",
       "      <th>seasons_autumn</th>\n",
       "      <th>seasons_spring</th>\n",
       "      <th>seasons_summer</th>\n",
       "      <th>seasons_winter</th>\n",
       "    </tr>\n",
       "  </thead>\n",
       "  <tbody>\n",
       "    <tr>\n",
       "      <th>0</th>\n",
       "      <td>0</td>\n",
       "      <td>1</td>\n",
       "      <td>1</td>\n",
       "      <td>1</td>\n",
       "      <td>0</td>\n",
       "      <td>0</td>\n",
       "      <td>2</td>\n",
       "      <td>18.18125</td>\n",
       "      <td>654</td>\n",
       "      <td>985</td>\n",
       "      <td>0.0</td>\n",
       "      <td>0.0</td>\n",
       "      <td>0.0</td>\n",
       "      <td>1.0</td>\n",
       "    </tr>\n",
       "    <tr>\n",
       "      <th>1</th>\n",
       "      <td>0</td>\n",
       "      <td>1</td>\n",
       "      <td>2</td>\n",
       "      <td>0</td>\n",
       "      <td>1</td>\n",
       "      <td>1</td>\n",
       "      <td>2</td>\n",
       "      <td>17.68695</td>\n",
       "      <td>670</td>\n",
       "      <td>801</td>\n",
       "      <td>0.0</td>\n",
       "      <td>0.0</td>\n",
       "      <td>0.0</td>\n",
       "      <td>1.0</td>\n",
       "    </tr>\n",
       "    <tr>\n",
       "      <th>2</th>\n",
       "      <td>0</td>\n",
       "      <td>1</td>\n",
       "      <td>3</td>\n",
       "      <td>0</td>\n",
       "      <td>2</td>\n",
       "      <td>1</td>\n",
       "      <td>1</td>\n",
       "      <td>9.47025</td>\n",
       "      <td>1229</td>\n",
       "      <td>1349</td>\n",
       "      <td>0.0</td>\n",
       "      <td>0.0</td>\n",
       "      <td>0.0</td>\n",
       "      <td>1.0</td>\n",
       "    </tr>\n",
       "    <tr>\n",
       "      <th>3</th>\n",
       "      <td>0</td>\n",
       "      <td>1</td>\n",
       "      <td>4</td>\n",
       "      <td>0</td>\n",
       "      <td>3</td>\n",
       "      <td>1</td>\n",
       "      <td>1</td>\n",
       "      <td>10.60610</td>\n",
       "      <td>1454</td>\n",
       "      <td>1562</td>\n",
       "      <td>0.0</td>\n",
       "      <td>0.0</td>\n",
       "      <td>0.0</td>\n",
       "      <td>1.0</td>\n",
       "    </tr>\n",
       "    <tr>\n",
       "      <th>4</th>\n",
       "      <td>0</td>\n",
       "      <td>1</td>\n",
       "      <td>5</td>\n",
       "      <td>0</td>\n",
       "      <td>4</td>\n",
       "      <td>1</td>\n",
       "      <td>1</td>\n",
       "      <td>11.46350</td>\n",
       "      <td>1518</td>\n",
       "      <td>1600</td>\n",
       "      <td>0.0</td>\n",
       "      <td>0.0</td>\n",
       "      <td>0.0</td>\n",
       "      <td>1.0</td>\n",
       "    </tr>\n",
       "  </tbody>\n",
       "</table>\n",
       "</div>"
      ],
      "text/plain": [
       "  yr mnth dia_anual holiday_num weekday_num workingday_num weathersit  \\\n",
       "0  0    1         1           1           0              0          2   \n",
       "1  0    1         2           0           1              1          2   \n",
       "2  0    1         3           0           2              1          1   \n",
       "3  0    1         4           0           3              1          1   \n",
       "4  0    1         5           0           4              1          1   \n",
       "\n",
       "      atemp  registered   cnt seasons_autumn seasons_spring seasons_summer  \\\n",
       "0  18.18125         654   985            0.0            0.0            0.0   \n",
       "1  17.68695         670   801            0.0            0.0            0.0   \n",
       "2   9.47025        1229  1349            0.0            0.0            0.0   \n",
       "3  10.60610        1454  1562            0.0            0.0            0.0   \n",
       "4  11.46350        1518  1600            0.0            0.0            0.0   \n",
       "\n",
       "  seasons_winter  \n",
       "0            1.0  \n",
       "1            1.0  \n",
       "2            1.0  \n",
       "3            1.0  \n",
       "4            1.0  "
      ]
     },
     "execution_count": 3,
     "metadata": {},
     "output_type": "execute_result"
    }
   ],
   "source": [
    "df = pd.read_pickle('datos/4.reg_encoding_oh_final.pkl')\n",
    "#df = pd.read_csv(\"datos/4.reg_encoding_oh_final.csv\", index_col=0).reset_index(drop=True)\n",
    "df.head()"
   ]
  },
  {
   "cell_type": "code",
   "execution_count": 4,
   "metadata": {},
   "outputs": [],
   "source": [
    "numericas= df.select_dtypes(np.number)#Seleccionamos solo las variables numericas"
   ]
  },
  {
   "cell_type": "code",
   "execution_count": 5,
   "metadata": {},
   "outputs": [
    {
     "data": {
      "text/plain": [
       "Index(['atemp', 'registered', 'cnt'], dtype='object')"
      ]
     },
     "execution_count": 5,
     "metadata": {},
     "output_type": "execute_result"
    }
   ],
   "source": [
    "numericas.columns"
   ]
  },
  {
   "cell_type": "code",
   "execution_count": 6,
   "metadata": {},
   "outputs": [],
   "source": [
    "numericas.drop(columns=['registered'],axis=1,inplace=True)#Eliminamos la variable respuesta y la columna year"
   ]
  },
  {
   "cell_type": "code",
   "execution_count": 7,
   "metadata": {},
   "outputs": [
    {
     "data": {
      "text/plain": [
       "(730, 2)"
      ]
     },
     "execution_count": 7,
     "metadata": {},
     "output_type": "execute_result"
    }
   ],
   "source": [
    "numericas.shape"
   ]
  },
  {
   "cell_type": "code",
   "execution_count": 9,
   "metadata": {},
   "outputs": [],
   "source": [
    "scaler= StandardScaler()"
   ]
  },
  {
   "cell_type": "code",
   "execution_count": 10,
   "metadata": {},
   "outputs": [
    {
     "data": {
      "text/plain": [
       "StandardScaler()"
      ]
     },
     "execution_count": 10,
     "metadata": {},
     "output_type": "execute_result"
    }
   ],
   "source": [
    "# ajustamos el modelo utilizando nuestro set de datos\n",
    "scaler.fit(numericas)"
   ]
  },
  {
   "cell_type": "code",
   "execution_count": 11,
   "metadata": {},
   "outputs": [],
   "source": [
    "x_scaler= scaler.transform(numericas)"
   ]
  },
  {
   "cell_type": "code",
   "execution_count": 12,
   "metadata": {},
   "outputs": [],
   "source": [
    "numericas_scaler= pd.DataFrame(x_scaler,columns=numericas.columns)"
   ]
  },
  {
   "cell_type": "code",
   "execution_count": 13,
   "metadata": {},
   "outputs": [],
   "source": [
    "columnas_scaler=numericas_scaler.columns"
   ]
  },
  {
   "cell_type": "code",
   "execution_count": 14,
   "metadata": {},
   "outputs": [],
   "source": [
    "df.drop(columnas_scaler, axis = 1, inplace = True)"
   ]
  },
  {
   "cell_type": "code",
   "execution_count": 15,
   "metadata": {},
   "outputs": [],
   "source": [
    "df[columnas_scaler] = numericas_scaler[columnas_scaler]"
   ]
  },
  {
   "cell_type": "code",
   "execution_count": 16,
   "metadata": {},
   "outputs": [
    {
     "data": {
      "text/html": [
       "<div>\n",
       "<style scoped>\n",
       "    .dataframe tbody tr th:only-of-type {\n",
       "        vertical-align: middle;\n",
       "    }\n",
       "\n",
       "    .dataframe tbody tr th {\n",
       "        vertical-align: top;\n",
       "    }\n",
       "\n",
       "    .dataframe thead th {\n",
       "        text-align: right;\n",
       "    }\n",
       "</style>\n",
       "<table border=\"1\" class=\"dataframe\">\n",
       "  <thead>\n",
       "    <tr style=\"text-align: right;\">\n",
       "      <th></th>\n",
       "      <th>yr</th>\n",
       "      <th>mnth</th>\n",
       "      <th>dia_anual</th>\n",
       "      <th>holiday_num</th>\n",
       "      <th>weekday_num</th>\n",
       "      <th>workingday_num</th>\n",
       "      <th>weathersit</th>\n",
       "      <th>registered</th>\n",
       "      <th>seasons_autumn</th>\n",
       "      <th>seasons_spring</th>\n",
       "      <th>seasons_summer</th>\n",
       "      <th>seasons_winter</th>\n",
       "      <th>atemp</th>\n",
       "      <th>cnt</th>\n",
       "    </tr>\n",
       "  </thead>\n",
       "  <tbody>\n",
       "    <tr>\n",
       "      <th>0</th>\n",
       "      <td>0</td>\n",
       "      <td>1</td>\n",
       "      <td>1</td>\n",
       "      <td>1</td>\n",
       "      <td>0</td>\n",
       "      <td>0</td>\n",
       "      <td>2</td>\n",
       "      <td>654</td>\n",
       "      <td>0.0</td>\n",
       "      <td>0.0</td>\n",
       "      <td>0.0</td>\n",
       "      <td>1.0</td>\n",
       "      <td>-0.680818</td>\n",
       "      <td>-1.820972</td>\n",
       "    </tr>\n",
       "    <tr>\n",
       "      <th>1</th>\n",
       "      <td>0</td>\n",
       "      <td>1</td>\n",
       "      <td>2</td>\n",
       "      <td>0</td>\n",
       "      <td>1</td>\n",
       "      <td>1</td>\n",
       "      <td>2</td>\n",
       "      <td>670</td>\n",
       "      <td>0.0</td>\n",
       "      <td>0.0</td>\n",
       "      <td>0.0</td>\n",
       "      <td>1.0</td>\n",
       "      <td>-0.741507</td>\n",
       "      <td>-1.916078</td>\n",
       "    </tr>\n",
       "    <tr>\n",
       "      <th>2</th>\n",
       "      <td>0</td>\n",
       "      <td>1</td>\n",
       "      <td>3</td>\n",
       "      <td>0</td>\n",
       "      <td>2</td>\n",
       "      <td>1</td>\n",
       "      <td>1</td>\n",
       "      <td>1229</td>\n",
       "      <td>0.0</td>\n",
       "      <td>0.0</td>\n",
       "      <td>0.0</td>\n",
       "      <td>1.0</td>\n",
       "      <td>-1.750344</td>\n",
       "      <td>-1.632827</td>\n",
       "    </tr>\n",
       "    <tr>\n",
       "      <th>3</th>\n",
       "      <td>0</td>\n",
       "      <td>1</td>\n",
       "      <td>4</td>\n",
       "      <td>0</td>\n",
       "      <td>3</td>\n",
       "      <td>1</td>\n",
       "      <td>1</td>\n",
       "      <td>1454</td>\n",
       "      <td>0.0</td>\n",
       "      <td>0.0</td>\n",
       "      <td>0.0</td>\n",
       "      <td>1.0</td>\n",
       "      <td>-1.610886</td>\n",
       "      <td>-1.522732</td>\n",
       "    </tr>\n",
       "    <tr>\n",
       "      <th>4</th>\n",
       "      <td>0</td>\n",
       "      <td>1</td>\n",
       "      <td>5</td>\n",
       "      <td>0</td>\n",
       "      <td>4</td>\n",
       "      <td>1</td>\n",
       "      <td>1</td>\n",
       "      <td>1518</td>\n",
       "      <td>0.0</td>\n",
       "      <td>0.0</td>\n",
       "      <td>0.0</td>\n",
       "      <td>1.0</td>\n",
       "      <td>-1.505615</td>\n",
       "      <td>-1.503090</td>\n",
       "    </tr>\n",
       "  </tbody>\n",
       "</table>\n",
       "</div>"
      ],
      "text/plain": [
       "  yr mnth dia_anual holiday_num weekday_num workingday_num weathersit  \\\n",
       "0  0    1         1           1           0              0          2   \n",
       "1  0    1         2           0           1              1          2   \n",
       "2  0    1         3           0           2              1          1   \n",
       "3  0    1         4           0           3              1          1   \n",
       "4  0    1         5           0           4              1          1   \n",
       "\n",
       "   registered seasons_autumn seasons_spring seasons_summer seasons_winter  \\\n",
       "0         654            0.0            0.0            0.0            1.0   \n",
       "1         670            0.0            0.0            0.0            1.0   \n",
       "2        1229            0.0            0.0            0.0            1.0   \n",
       "3        1454            0.0            0.0            0.0            1.0   \n",
       "4        1518            0.0            0.0            0.0            1.0   \n",
       "\n",
       "      atemp       cnt  \n",
       "0 -0.680818 -1.820972  \n",
       "1 -0.741507 -1.916078  \n",
       "2 -1.750344 -1.632827  \n",
       "3 -1.610886 -1.522732  \n",
       "4 -1.505615 -1.503090  "
      ]
     },
     "execution_count": 16,
     "metadata": {},
     "output_type": "execute_result"
    }
   ],
   "source": [
    "df.head()"
   ]
  },
  {
   "cell_type": "code",
   "execution_count": 17,
   "metadata": {},
   "outputs": [],
   "source": [
    "#guardamos en csv y en pkl los df con los datos de registrados:\n",
    "\n",
    "df.to_csv('datos/5.reg_encoding_estandarizacion.csv')\n",
    "df.to_pickle('datos/5.reg_encoding_estandarizacion.pkl')"
   ]
  }
 ],
 "metadata": {
  "kernelspec": {
   "display_name": "base",
   "language": "python",
   "name": "python3"
  },
  "language_info": {
   "codemirror_mode": {
    "name": "ipython",
    "version": 3
   },
   "file_extension": ".py",
   "mimetype": "text/x-python",
   "name": "python",
   "nbconvert_exporter": "python",
   "pygments_lexer": "ipython3",
   "version": "3.9.13"
  },
  "orig_nbformat": 4,
  "vscode": {
   "interpreter": {
    "hash": "f2104d434ce3092b7c07d5af98c90652611c7ad655b2a72b59e9e675e449bc7b"
   }
  }
 },
 "nbformat": 4,
 "nbformat_minor": 2
}
