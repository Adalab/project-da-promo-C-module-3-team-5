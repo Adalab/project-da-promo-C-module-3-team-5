{
 "cells": [
  {
   "attachments": {},
   "cell_type": "markdown",
   "metadata": {},
   "source": [
    "# Análisis de las características de la muestra:"
   ]
  },
  {
   "cell_type": "code",
   "execution_count": 22,
   "metadata": {},
   "outputs": [],
   "source": [
    "# Tratamiento de datos\n",
    "# -----------------------------------------------------------------------\n",
    "import numpy as np\n",
    "import pandas as pd\n",
    "import sidetable\n",
    "\n",
    "# Gráficos\n",
    "# ------------------------------------------------------------------------------\n",
    "import matplotlib.pyplot as plt\n",
    "import seaborn as sns\n",
    "\n",
    "# Estadísticos\n",
    "# ------------------------------------------------------------------------------\n",
    "from scipy import stats\n",
    "#import researchpy as rp\n",
    "from scipy.stats import levene\n",
    "from scipy.stats import kurtosistest\n",
    "\n",
    "import warnings\n",
    "warnings.filterwarnings('ignore')\n",
    "\n",
    "pd.options.display.max_columns = None\n",
    "\n",
    "plt.rcParams[\"figure.figsize\"] = (10,8) "
   ]
  },
  {
   "cell_type": "code",
   "execution_count": 3,
   "metadata": {},
   "outputs": [
    {
     "data": {
      "text/html": [
       "<div>\n",
       "<style scoped>\n",
       "    .dataframe tbody tr th:only-of-type {\n",
       "        vertical-align: middle;\n",
       "    }\n",
       "\n",
       "    .dataframe tbody tr th {\n",
       "        vertical-align: top;\n",
       "    }\n",
       "\n",
       "    .dataframe thead th {\n",
       "        text-align: right;\n",
       "    }\n",
       "</style>\n",
       "<table border=\"1\" class=\"dataframe\">\n",
       "  <thead>\n",
       "    <tr style=\"text-align: right;\">\n",
       "      <th></th>\n",
       "      <th>index</th>\n",
       "      <th>instant</th>\n",
       "      <th>dteday</th>\n",
       "      <th>estaciones</th>\n",
       "      <th>yr</th>\n",
       "      <th>mnth</th>\n",
       "      <th>holiday</th>\n",
       "      <th>workingday</th>\n",
       "      <th>weathersit</th>\n",
       "      <th>weekday_num</th>\n",
       "      <th>weekday_cat</th>\n",
       "      <th>temp</th>\n",
       "      <th>atemp</th>\n",
       "      <th>hum</th>\n",
       "      <th>windspeed</th>\n",
       "      <th>casual</th>\n",
       "      <th>registered</th>\n",
       "      <th>cnt</th>\n",
       "    </tr>\n",
       "  </thead>\n",
       "  <tbody>\n",
       "    <tr>\n",
       "      <th>0</th>\n",
       "      <td>0</td>\n",
       "      <td>1</td>\n",
       "      <td>2018-01-01</td>\n",
       "      <td>winter</td>\n",
       "      <td>0</td>\n",
       "      <td>1</td>\n",
       "      <td>0</td>\n",
       "      <td>0</td>\n",
       "      <td>2</td>\n",
       "      <td>0</td>\n",
       "      <td>monday</td>\n",
       "      <td>14.110847</td>\n",
       "      <td>18.18125</td>\n",
       "      <td>80.5833</td>\n",
       "      <td>10.749882</td>\n",
       "      <td>331</td>\n",
       "      <td>654</td>\n",
       "      <td>985</td>\n",
       "    </tr>\n",
       "    <tr>\n",
       "      <th>1</th>\n",
       "      <td>1</td>\n",
       "      <td>2</td>\n",
       "      <td>2018-02-01</td>\n",
       "      <td>winter</td>\n",
       "      <td>0</td>\n",
       "      <td>1</td>\n",
       "      <td>0</td>\n",
       "      <td>0</td>\n",
       "      <td>2</td>\n",
       "      <td>3</td>\n",
       "      <td>thursday</td>\n",
       "      <td>14.902598</td>\n",
       "      <td>17.68695</td>\n",
       "      <td>69.6087</td>\n",
       "      <td>16.652113</td>\n",
       "      <td>131</td>\n",
       "      <td>670</td>\n",
       "      <td>801</td>\n",
       "    </tr>\n",
       "    <tr>\n",
       "      <th>2</th>\n",
       "      <td>2</td>\n",
       "      <td>3</td>\n",
       "      <td>2018-03-01</td>\n",
       "      <td>winter</td>\n",
       "      <td>0</td>\n",
       "      <td>1</td>\n",
       "      <td>0</td>\n",
       "      <td>1</td>\n",
       "      <td>1</td>\n",
       "      <td>3</td>\n",
       "      <td>thursday</td>\n",
       "      <td>8.050924</td>\n",
       "      <td>9.47025</td>\n",
       "      <td>43.7273</td>\n",
       "      <td>16.636703</td>\n",
       "      <td>120</td>\n",
       "      <td>1229</td>\n",
       "      <td>1349</td>\n",
       "    </tr>\n",
       "    <tr>\n",
       "      <th>3</th>\n",
       "      <td>3</td>\n",
       "      <td>4</td>\n",
       "      <td>2018-04-01</td>\n",
       "      <td>spring</td>\n",
       "      <td>0</td>\n",
       "      <td>1</td>\n",
       "      <td>0</td>\n",
       "      <td>1</td>\n",
       "      <td>1</td>\n",
       "      <td>6</td>\n",
       "      <td>sunday</td>\n",
       "      <td>8.200000</td>\n",
       "      <td>10.60610</td>\n",
       "      <td>59.0435</td>\n",
       "      <td>10.739832</td>\n",
       "      <td>108</td>\n",
       "      <td>1454</td>\n",
       "      <td>1562</td>\n",
       "    </tr>\n",
       "    <tr>\n",
       "      <th>4</th>\n",
       "      <td>4</td>\n",
       "      <td>5</td>\n",
       "      <td>2018-05-01</td>\n",
       "      <td>spring</td>\n",
       "      <td>0</td>\n",
       "      <td>1</td>\n",
       "      <td>0</td>\n",
       "      <td>1</td>\n",
       "      <td>1</td>\n",
       "      <td>1</td>\n",
       "      <td>tuesday</td>\n",
       "      <td>9.305237</td>\n",
       "      <td>11.46350</td>\n",
       "      <td>43.6957</td>\n",
       "      <td>12.522300</td>\n",
       "      <td>82</td>\n",
       "      <td>1518</td>\n",
       "      <td>1600</td>\n",
       "    </tr>\n",
       "  </tbody>\n",
       "</table>\n",
       "</div>"
      ],
      "text/plain": [
       "   index  instant      dteday estaciones  yr  mnth  holiday  workingday  \\\n",
       "0      0        1  2018-01-01     winter   0     1        0           0   \n",
       "1      1        2  2018-02-01     winter   0     1        0           0   \n",
       "2      2        3  2018-03-01     winter   0     1        0           1   \n",
       "3      3        4  2018-04-01     spring   0     1        0           1   \n",
       "4      4        5  2018-05-01     spring   0     1        0           1   \n",
       "\n",
       "   weathersit  weekday_num weekday_cat       temp     atemp      hum  \\\n",
       "0           2            0      monday  14.110847  18.18125  80.5833   \n",
       "1           2            3    thursday  14.902598  17.68695  69.6087   \n",
       "2           1            3    thursday   8.050924   9.47025  43.7273   \n",
       "3           1            6      sunday   8.200000  10.60610  59.0435   \n",
       "4           1            1     tuesday   9.305237  11.46350  43.6957   \n",
       "\n",
       "   windspeed  casual  registered   cnt  \n",
       "0  10.749882     331         654   985  \n",
       "1  16.652113     131         670   801  \n",
       "2  16.636703     120        1229  1349  \n",
       "3  10.739832     108        1454  1562  \n",
       "4  12.522300      82        1518  1600  "
      ]
     },
     "execution_count": 3,
     "metadata": {},
     "output_type": "execute_result"
    }
   ],
   "source": [
    "df = pd.read_csv('datos/2.bikes.csv', index_col=0)\n",
    "df.head()"
   ]
  },
  {
   "cell_type": "code",
   "execution_count": 4,
   "metadata": {},
   "outputs": [
    {
     "name": "stdout",
     "output_type": "stream",
     "text": [
      "<class 'pandas.core.frame.DataFrame'>\n",
      "Int64Index: 730 entries, 0 to 729\n",
      "Data columns (total 18 columns):\n",
      " #   Column       Non-Null Count  Dtype  \n",
      "---  ------       --------------  -----  \n",
      " 0   index        730 non-null    int64  \n",
      " 1   instant      730 non-null    int64  \n",
      " 2   dteday       730 non-null    object \n",
      " 3   estaciones   730 non-null    object \n",
      " 4   yr           730 non-null    int64  \n",
      " 5   mnth         730 non-null    int64  \n",
      " 6   holiday      730 non-null    int64  \n",
      " 7   workingday   730 non-null    int64  \n",
      " 8   weathersit   730 non-null    int64  \n",
      " 9   weekday_num  730 non-null    int64  \n",
      " 10  weekday_cat  730 non-null    object \n",
      " 11  temp         730 non-null    float64\n",
      " 12  atemp        730 non-null    float64\n",
      " 13  hum          730 non-null    float64\n",
      " 14  windspeed    730 non-null    float64\n",
      " 15  casual       730 non-null    int64  \n",
      " 16  registered   730 non-null    int64  \n",
      " 17  cnt          730 non-null    int64  \n",
      "dtypes: float64(4), int64(11), object(3)\n",
      "memory usage: 108.4+ KB\n"
     ]
    }
   ],
   "source": [
    "#vemos que en el csv se han 'aplanado' los datos y por lo tanto modificado el tipo de dato de la columna dteday:\n",
    "df.info()"
   ]
  },
  {
   "cell_type": "code",
   "execution_count": 5,
   "metadata": {},
   "outputs": [],
   "source": [
    "#lo modificamos\n",
    "df['dteday'] = pd.to_datetime(df['dteday'])"
   ]
  },
  {
   "cell_type": "code",
   "execution_count": 6,
   "metadata": {},
   "outputs": [
    {
     "name": "stdout",
     "output_type": "stream",
     "text": [
      "<class 'pandas.core.frame.DataFrame'>\n",
      "Int64Index: 730 entries, 0 to 729\n",
      "Data columns (total 18 columns):\n",
      " #   Column       Non-Null Count  Dtype         \n",
      "---  ------       --------------  -----         \n",
      " 0   index        730 non-null    int64         \n",
      " 1   instant      730 non-null    int64         \n",
      " 2   dteday       730 non-null    datetime64[ns]\n",
      " 3   estaciones   730 non-null    object        \n",
      " 4   yr           730 non-null    int64         \n",
      " 5   mnth         730 non-null    int64         \n",
      " 6   holiday      730 non-null    int64         \n",
      " 7   workingday   730 non-null    int64         \n",
      " 8   weathersit   730 non-null    int64         \n",
      " 9   weekday_num  730 non-null    int64         \n",
      " 10  weekday_cat  730 non-null    object        \n",
      " 11  temp         730 non-null    float64       \n",
      " 12  atemp        730 non-null    float64       \n",
      " 13  hum          730 non-null    float64       \n",
      " 14  windspeed    730 non-null    float64       \n",
      " 15  casual       730 non-null    int64         \n",
      " 16  registered   730 non-null    int64         \n",
      " 17  cnt          730 non-null    int64         \n",
      "dtypes: datetime64[ns](1), float64(4), int64(11), object(2)\n",
      "memory usage: 108.4+ KB\n"
     ]
    }
   ],
   "source": [
    "#confirmamos que el cambio se ha efectuado:\n",
    "df.info()"
   ]
  },
  {
   "attachments": {},
   "cell_type": "markdown",
   "metadata": {},
   "source": [
    "## Exploración de las características de la muestra:"
   ]
  },
  {
   "attachments": {},
   "cell_type": "markdown",
   "metadata": {},
   "source": [
    "\n",
    "Es importante saber cómo se distribuye la muestra con la que estamos trabajando (normalidad, asimetría) así como otros factores pertinentes a ésta (homogeneidad de varianzas, etc.) para saber qué tipo de cálculos estadísticos podremos aplicar para contestar a nuestras preguntas de investigación.\n",
    "\n",
    "- Normalidad -> esencial para realizar una regresión lineal.\n",
    "- (A)simetría.\n",
    "- Homogeneidad de varianzas"
   ]
  },
  {
   "attachments": {},
   "cell_type": "markdown",
   "metadata": {},
   "source": [
    "### Normalidad:"
   ]
  },
  {
   "attachments": {},
   "cell_type": "markdown",
   "metadata": {},
   "source": [
    "Antes de saber qué estadístico para explorar la normalidad, debemos de atender al tamaño muestral:\n",
    "- Si la muestra es menor de 5000 (x < 5000), usaremos Saphiro.\n",
    "- Si la muestra es mayor de 5000 (x > 5000), usaremos al señor ruso"
   ]
  },
  {
   "cell_type": "code",
   "execution_count": 7,
   "metadata": {},
   "outputs": [
    {
     "name": "stdout",
     "output_type": "stream",
     "text": [
      "La BBDD consta de 730 casos\n"
     ]
    }
   ],
   "source": [
    "print(f\"La BBDD consta de {df.shape[0]} casos\")"
   ]
  },
  {
   "attachments": {},
   "cell_type": "markdown",
   "metadata": {},
   "source": [
    "Usamos Saphiro."
   ]
  },
  {
   "attachments": {},
   "cell_type": "markdown",
   "metadata": {},
   "source": [
    "#### Muestra 'casual':"
   ]
  },
  {
   "cell_type": "code",
   "execution_count": 13,
   "metadata": {},
   "outputs": [
    {
     "data": {
      "image/png": "[encoded data removed]",
      "text/plain": [
       "<Figure size 720x576 with 1 Axes>"
      ]
     },
     "metadata": {
      "needs_background": "light"
     },
     "output_type": "display_data"
    }
   ],
   "source": [
    "#comprobación gráfica:\n",
    "sns.histplot(df[\"casual\"], kde=True, bins=10, color='pink');\n",
    "\n",
    "stats.shapiro(df[\"casual\"]);"
   ]
  },
  {
   "attachments": {},
   "cell_type": "markdown",
   "metadata": {},
   "source": [
    "Ya vamos adivinando la distribución de la muestra: **No es normal**.   \n",
    "\n",
    "Además, **la asimetría podría ser negativa**: Las personas, en este caso, que cogen la bicicleta de manera casual, tienden a hacerlo poco. Esto se observa en que las mayores frecuencias tienden a concentrarse a la izquierda (el principio del eje x)"
   ]
  },
  {
   "cell_type": "code",
   "execution_count": 14,
   "metadata": {},
   "outputs": [
    {
     "data": {
      "text/plain": [
       "ShapiroResult(statistic=0.8850967288017273, pvalue=7.660028716313278e-23)"
      ]
     },
     "execution_count": 14,
     "metadata": {},
     "output_type": "execute_result"
    }
   ],
   "source": [
    "stats.shapiro(df['casual'])"
   ]
  },
  {
   "attachments": {},
   "cell_type": "markdown",
   "metadata": {},
   "source": [
    "El p valor es > 0.05 (p=7.66), rechazamos H0: **Los datos de 'casual' no son normales**"
   ]
  },
  {
   "attachments": {},
   "cell_type": "markdown",
   "metadata": {},
   "source": [
    "### Muestra 'registrada':"
   ]
  },
  {
   "cell_type": "code",
   "execution_count": 17,
   "metadata": {},
   "outputs": [
    {
     "data": {
      "image/png": "[encoded data removed]",
      "text/plain": [
       "<Figure size 720x576 with 1 Axes>"
      ]
     },
     "metadata": {
      "needs_background": "light"
     },
     "output_type": "display_data"
    }
   ],
   "source": [
    "#comprobación gráfica:\n",
    "sns.histplot(df[\"registered\"], kde=True, bins=10, color='pink');"
   ]
  },
  {
   "attachments": {},
   "cell_type": "markdown",
   "metadata": {},
   "source": [
    "Parece que en el caso de las personas registradas, la distribución sí podría ser normal. Vamos a comprobarlo:"
   ]
  },
  {
   "cell_type": "code",
   "execution_count": 18,
   "metadata": {},
   "outputs": [
    {
     "data": {
      "text/plain": [
       "ShapiroResult(statistic=0.98438560962677, pvalue=5.023745757171127e-07)"
      ]
     },
     "execution_count": 18,
     "metadata": {},
     "output_type": "execute_result"
    }
   ],
   "source": [
    "stats.shapiro(df['registered'])"
   ]
  },
  {
   "attachments": {},
   "cell_type": "markdown",
   "metadata": {},
   "source": [
    "El p valor es > 0.05 (p=7.66), aceptamos H0: **Los datos de 'registered' son normales**"
   ]
  },
  {
   "attachments": {},
   "cell_type": "markdown",
   "metadata": {},
   "source": [
    "### Asimetría:"
   ]
  },
  {
   "attachments": {},
   "cell_type": "markdown",
   "metadata": {},
   "source": [
    "#### Datos 'casual'"
   ]
  },
  {
   "cell_type": "code",
   "execution_count": 29,
   "metadata": {},
   "outputs": [
    {
     "data": {
      "text/plain": [
       "SkewtestResult(statistic=11.15903082194629, pvalue=6.469296630486003e-29)"
      ]
     },
     "execution_count": 29,
     "metadata": {},
     "output_type": "execute_result"
    }
   ],
   "source": [
    "stats.skewtest(df['casual'])"
   ]
  },
  {
   "attachments": {},
   "cell_type": "markdown",
   "metadata": {},
   "source": [
    "La muestra de las personas que no están registradas es **asimétrica**, siendo esta asimetría estadísticamente significativa (p < 0.05)"
   ]
  },
  {
   "attachments": {},
   "cell_type": "markdown",
   "metadata": {},
   "source": [
    "#### Datos 'registered'"
   ]
  },
  {
   "cell_type": "code",
   "execution_count": 31,
   "metadata": {},
   "outputs": [
    {
     "data": {
      "text/plain": [
       "SkewtestResult(statistic=0.45799609402950425, pvalue=0.6469552474750204)"
      ]
     },
     "execution_count": 31,
     "metadata": {},
     "output_type": "execute_result"
    }
   ],
   "source": [
    "stats.skewtest(df['registered'])"
   ]
  },
  {
   "attachments": {},
   "cell_type": "markdown",
   "metadata": {},
   "source": [
    "La muestra de personas registradas es **simétrica** (statistic=0.46), siendo esta simetría estadísticamente significativa (p< 0.05)"
   ]
  },
  {
   "attachments": {},
   "cell_type": "markdown",
   "metadata": {},
   "source": [
    "La distribución de ambas variables es platicúrtica (p<0), por lo que tiene una distribución más planita."
   ]
  },
  {
   "attachments": {},
   "cell_type": "markdown",
   "metadata": {},
   "source": [
    "## Homogeneidad de las varianzas:"
   ]
  },
  {
   "attachments": {},
   "cell_type": "markdown",
   "metadata": {},
   "source": [
    "La prueba de Levene para la igualdad de varianzas nos indica si podemos o no suponer varianzas iguales. Así si la probabilidad asociada al estadístico Levene es:  \n",
    "\n",
    "- p >0.05 – suponemos varianzas iguales\n",
    "- si es <0.05 – suponemos varianzas distintas."
   ]
  },
  {
   "attachments": {},
   "cell_type": "markdown",
   "metadata": {},
   "source": [
    "#### Datos 'casual':"
   ]
  },
  {
   "cell_type": "code",
   "execution_count": 68,
   "metadata": {},
   "outputs": [
    {
     "name": "stdout",
     "output_type": "stream",
     "text": [
      "para la columna INDEX:\n",
      "NO hay homogeneidad de varianzas para INDEX, ya que p= 7.57565944713031e-64\n",
      "------------------\n",
      "para la columna INSTANT:\n",
      "NO hay homogeneidad de varianzas para INSTANT, ya que p= 7.57565944713031e-64\n",
      "------------------\n",
      "para la columna YR:\n",
      "NO hay homogeneidad de varianzas para YR, ya que p= 3.16613979225668e-141\n",
      "------------------\n",
      "para la columna MNTH:\n",
      "NO hay homogeneidad de varianzas para MNTH, ya que p= 4.0777022810431975e-140\n",
      "------------------\n",
      "para la columna HOLIDAY:\n",
      "NO hay homogeneidad de varianzas para HOLIDAY, ya que p= 1.952226337688453e-141\n",
      "------------------\n",
      "para la columna WORKINGDAY:\n",
      "NO hay homogeneidad de varianzas para WORKINGDAY, ya que p= 2.6232175579606733e-141\n",
      "------------------\n",
      "para la columna WEATHERSIT:\n",
      "NO hay homogeneidad de varianzas para WEATHERSIT, ya que p= 2.8423017397675974e-141\n",
      "------------------\n",
      "para la columna WEEKDAY_NUM:\n",
      "NO hay homogeneidad de varianzas para WEEKDAY_NUM, ya que p= 1.103854929631097e-140\n",
      "------------------\n",
      "para la columna TEMP:\n",
      "NO hay homogeneidad de varianzas para TEMP, ya que p= 1.5499266458859592e-138\n",
      "------------------\n",
      "para la columna ATEMP:\n",
      "NO hay homogeneidad de varianzas para ATEMP, ya que p= 2.5624550307428922e-138\n",
      "------------------\n",
      "para la columna HUM:\n",
      "NO hay homogeneidad de varianzas para HUM, ya que p= 3.005457909292799e-136\n",
      "------------------\n",
      "para la columna WINDSPEED:\n",
      "NO hay homogeneidad de varianzas para WINDSPEED, ya que p= 1.2474027143326703e-139\n",
      "------------------\n",
      "para la columna CASUAL:\n",
      "Hay homogeneidad de varianzas para CASUAL, ya que p= 1.0\n",
      "------------------\n",
      "para la columna REGISTERED:\n",
      "NO hay homogeneidad de varianzas para REGISTERED, ya que p= 2.435672188693375e-77\n",
      "------------------\n",
      "para la columna CNT:\n",
      "NO hay homogeneidad de varianzas para CNT, ya que p= 3.031094721085453e-106\n",
      "------------------\n"
     ]
    }
   ],
   "source": [
    "\n",
    "#almacenamos en una lista para consultarlo cuando queramos:\n",
    "homo_cas = []\n",
    "hetero_cas = []\n",
    "\n",
    "for col in df.select_dtypes(include=np.number):\n",
    "    print(f'para la columna {col.upper()}:')\n",
    "    #print(stats.levene(df['casual'], df[col], center='median', proportiontocut=0.05))\n",
    "    \n",
    "    \n",
    "    if (stats.levene(df['casual'], df[col], center='median', proportiontocut=0.05))[1] < 0.05:\n",
    "        print(f'NO hay homogeneidad de varianzas para {col.upper()}, ya que p= {(stats.levene(df[\"casual\"], df[col], center=\"median\", proportiontocut=0.05))[1]}')\n",
    "        print('------------------')\n",
    "        homo_cas.append(col)\n",
    "\n",
    "        \n",
    "    else:\n",
    "        print(f'Hay homogeneidad de varianzas para {col.upper()}, ya que p= {(stats.levene(df[\"casual\"], df[col], center=\"median\", proportiontocut=0.05))[1]}')\n",
    "        print('------------------')\n",
    "        hetero_cas.append(col)\n",
    "        \n",
    "        "
   ]
  },
  {
   "attachments": {},
   "cell_type": "markdown",
   "metadata": {},
   "source": [
    "### Datos 'registered':"
   ]
  },
  {
   "cell_type": "code",
   "execution_count": 67,
   "metadata": {},
   "outputs": [
    {
     "name": "stdout",
     "output_type": "stream",
     "text": [
      "para la columna INDEX:\n",
      "NO hay homogeneidad de varianzas para INDEX, ya que p= 2.513965528688378e-168\n",
      "------------------\n",
      "para la columna INSTANT:\n",
      "NO hay homogeneidad de varianzas para INSTANT, ya que p= 2.513965528688378e-168\n",
      "------------------\n",
      "para la columna YR:\n",
      "NO hay homogeneidad de varianzas para YR, ya que p= 2.0613085773359724e-214\n",
      "------------------\n",
      "para la columna MNTH:\n",
      "NO hay homogeneidad de varianzas para MNTH, ya que p= 8.411490920240263e-214\n",
      "------------------\n",
      "para la columna HOLIDAY:\n",
      "NO hay homogeneidad de varianzas para HOLIDAY, ya que p= 1.5799057614033454e-214\n",
      "------------------\n",
      "para la columna WORKINGDAY:\n",
      "NO hay homogeneidad de varianzas para WORKINGDAY, ya que p= 1.858597358336471e-214\n",
      "------------------\n",
      "para la columna WEATHERSIT:\n",
      "NO hay homogeneidad de varianzas para WEATHERSIT, ya que p= 1.9424105633260445e-214\n",
      "------------------\n",
      "para la columna WEEKDAY_NUM:\n",
      "NO hay homogeneidad de varianzas para WEEKDAY_NUM, ya que p= 4.0976049523854276e-214\n",
      "------------------\n",
      "para la columna TEMP:\n",
      "NO hay homogeneidad de varianzas para TEMP, ya que p= 6.240911065291662e-213\n",
      "------------------\n",
      "para la columna ATEMP:\n",
      "NO hay homogeneidad de varianzas para ATEMP, ya que p= 8.231638671229998e-213\n",
      "------------------\n",
      "para la columna HUM:\n",
      "NO hay homogeneidad de varianzas para HUM, ya que p= 1.136974192566387e-211\n",
      "------------------\n",
      "para la columna WINDSPEED:\n",
      "NO hay homogeneidad de varianzas para WINDSPEED, ya que p= 1.5554098904763574e-213\n",
      "------------------\n",
      "para la columna CASUAL:\n",
      "NO hay homogeneidad de varianzas para CASUAL, ya que p= 2.435672188693375e-77\n",
      "------------------\n",
      "para la columna REGISTERED:\n",
      "Hay homogeneidad de varianzas para REGISTERED, ya que p= 1.0\n",
      "------------------\n",
      "para la columna CNT:\n",
      "NO hay homogeneidad de varianzas para CNT, ya que p= 3.756413456870291e-09\n",
      "------------------\n"
     ]
    }
   ],
   "source": [
    "\n",
    "#almacenamos en una lista para consultarlo cuando queramos:\n",
    "homo_res = []\n",
    "hetero_res = []\n",
    "\n",
    "for col in df.select_dtypes(include=np.number):\n",
    "    print(f'para la columna {col.upper()}:')\n",
    "    #print(stats.levene(df['casual'], df[col], center='median', proportiontocut=0.05))\n",
    "    \n",
    "    \n",
    "    if (stats.levene(df['registered'], df[col], center='median', proportiontocut=0.05))[1] < 0.05:\n",
    "        print(f'NO hay homogeneidad de varianzas para {col.upper()}, ya que p= {(stats.levene(df[\"registered\"], df[col], center=\"median\", proportiontocut=0.05))[1]}')\n",
    "        print('------------------')\n",
    "        homo_res.append(col)\n",
    "\n",
    "        \n",
    "    else:\n",
    "        print(f'Hay homogeneidad de varianzas para {col.upper()}, ya que p= {(stats.levene(df[\"registered\"], df[col], center=\"median\", proportiontocut=0.05))[1]}')\n",
    "        print('------------------')\n",
    "        hetero_res.append(col)"
   ]
  },
  {
   "attachments": {},
   "cell_type": "markdown",
   "metadata": {},
   "source": [
    "## Conclusiones:"
   ]
  },
  {
   "attachments": {},
   "cell_type": "markdown",
   "metadata": {},
   "source": [
    "### 'Casual':"
   ]
  },
  {
   "attachments": {},
   "cell_type": "markdown",
   "metadata": {},
   "source": [
    "- **Normalidad**: La distribución **no** es normal.\n",
    "- **Asimetría**: La muestra es asimétrica.\n",
    "- **Homogeneidad de las varianzas**:\n",
    "No hay homogeneidad de varianzas."
   ]
  },
  {
   "attachments": {},
   "cell_type": "markdown",
   "metadata": {},
   "source": [
    "### 'Registered'"
   ]
  },
  {
   "attachments": {},
   "cell_type": "markdown",
   "metadata": {},
   "source": [
    "- **Normalidad**: La distribución **si** es normal.\n",
    "- **Asimetría**: La muestra es simétrica.\n",
    "- **Homogeneidad de las varianzas**:\n",
    "No hay homogeneidad de varianzas."
   ]
  },
  {
   "cell_type": "markdown",
   "metadata": {},
   "source": []
  }
 ],
 "metadata": {
  "kernelspec": {
   "display_name": "base",
   "language": "python",
   "name": "python3"
  },
  "language_info": {
   "codemirror_mode": {
    "name": "ipython",
    "version": 3
   },
   "file_extension": ".py",
   "mimetype": "text/x-python",
   "name": "python",
   "nbconvert_exporter": "python",
   "pygments_lexer": "ipython3",
   "version": "3.9.7"
  },
  "orig_nbformat": 4,
  "vscode": {
   "interpreter": {
    "hash": "40d3a090f54c6569ab1632332b64b2c03c39dcf918b08424e98f38b5ae0af88f"
   }
  }
 },
 "nbformat": 4,
 "nbformat_minor": 2
}
