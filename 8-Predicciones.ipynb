{
 "cells": [
  {
   "cell_type": "code",
   "execution_count": null,
   "metadata": {},
   "outputs": [],
   "source": [
    "# iniciamos el método de OneHot Encoder\n",
    "oh = OneHotEncoder()\n",
    "transformados = oh.fit_transform(df[['seasons']])\n",
    "oh_df = pd.DataFrame(transformados.toarray())\n",
    "#en los apuntes aparece 'get_feature_names', pero no ha funcionado. ha funcionado esto:\n",
    "oh_df.columns = oh.get_feature_names_out()\n",
    "oh_df.head()"
   ]
  },
  {
   "cell_type": "code",
   "execution_count": null,
   "metadata": {},
   "outputs": [],
   "source": [
    "# función para convertir los días del mes en dias del año\n",
    "def convertir_dia_anual (registro):\n",
    "    dia = pd.Period(registro, freq='H')\n",
    "    return dia.day_of_year"
   ]
  },
  {
   "cell_type": "code",
   "execution_count": null,
   "metadata": {},
   "outputs": [],
   "source": [
    "df.drop([\"dteday\"], axis=1, inplace=True)"
   ]
  }
 ],
 "metadata": {
  "kernelspec": {
   "display_name": "Python 3",
   "language": "python",
   "name": "python3"
  },
  "language_info": {
   "name": "python",
   "version": "3.6.9 (default, Jun 29 2022, 11:45:57) \n[GCC 8.4.0]"
  },
  "orig_nbformat": 4,
  "vscode": {
   "interpreter": {
    "hash": "31f2aee4e71d21fbe5cf8b01ff0e069b9275f58929596ceb00d14d90e3e16cd6"
   }
  }
 },
 "nbformat": 4,
 "nbformat_minor": 2
}
